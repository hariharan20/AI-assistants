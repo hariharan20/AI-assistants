{
  "nbformat": 4,
  "nbformat_minor": 0,
  "metadata": {
    "colab": {
      "name": "cement_industry.ipynb",
      "provenance": [],
      "collapsed_sections": [],
      "authorship_tag": "ABX9TyPI/UQyq03laxysRjf0r9oF"
    },
    "kernelspec": {
      "name": "python3",
      "display_name": "Python 3"
    }
  },
  "cells": [
    {
      "cell_type": "code",
      "metadata": {
        "id": "JKGZuxpkn15f"
      },
      "source": [
        "import pandas "
      ],
      "execution_count": 1,
      "outputs": []
    },
    {
      "cell_type": "code",
      "metadata": {
        "id": "M4b2I7DJrpmk"
      },
      "source": [
        "import numpy as np"
      ],
      "execution_count": 2,
      "outputs": []
    },
    {
      "cell_type": "code",
      "metadata": {
        "id": "63Q5-gwhDpP-"
      },
      "source": [
        "import matplotlib.pyplot as plt"
      ],
      "execution_count": 3,
      "outputs": []
    },
    {
      "cell_type": "code",
      "metadata": {
        "id": "NH6dnGHuoAGO"
      },
      "source": [
        "data = pandas.read_csv('3x4data.csv' )"
      ],
      "execution_count": 8,
      "outputs": []
    },
    {
      "cell_type": "code",
      "metadata": {
        "colab": {
          "base_uri": "https://localhost:8080/",
          "height": 194
        },
        "id": "TS4-CWrqoJ2h",
        "outputId": "a339cc7d-3d0f-44fa-eba7-a21420bccc9b"
      },
      "source": [
        "data.head()\r\n"
      ],
      "execution_count": 9,
      "outputs": [
        {
          "output_type": "execute_result",
          "data": {
            "text/html": [
              "<div>\n",
              "<style scoped>\n",
              "    .dataframe tbody tr th:only-of-type {\n",
              "        vertical-align: middle;\n",
              "    }\n",
              "\n",
              "    .dataframe tbody tr th {\n",
              "        vertical-align: top;\n",
              "    }\n",
              "\n",
              "    .dataframe thead th {\n",
              "        text-align: right;\n",
              "    }\n",
              "</style>\n",
              "<table border=\"1\" class=\"dataframe\">\n",
              "  <thead>\n",
              "    <tr style=\"text-align: right;\">\n",
              "      <th></th>\n",
              "      <th>KLFeedPV</th>\n",
              "      <th>KLCoalPV</th>\n",
              "      <th>KLspeedPV</th>\n",
              "      <th>Unnamed: 3</th>\n",
              "      <th>KLNox</th>\n",
              "      <th>KLInTemp</th>\n",
              "      <th>KLBZT</th>\n",
              "      <th>KLAmps</th>\n",
              "    </tr>\n",
              "  </thead>\n",
              "  <tbody>\n",
              "    <tr>\n",
              "      <th>0</th>\n",
              "      <td>349.1615</td>\n",
              "      <td>8.903</td>\n",
              "      <td>3.8973</td>\n",
              "      <td>NaN</td>\n",
              "      <td>592.0139</td>\n",
              "      <td>1086.111</td>\n",
              "      <td>1094.097</td>\n",
              "      <td>263.7</td>\n",
              "    </tr>\n",
              "    <tr>\n",
              "      <th>1</th>\n",
              "      <td>351.4174</td>\n",
              "      <td>8.8528</td>\n",
              "      <td>3.9053</td>\n",
              "      <td>NaN</td>\n",
              "      <td>593.7500</td>\n",
              "      <td>1083.565</td>\n",
              "      <td>1116.667</td>\n",
              "      <td>254.3</td>\n",
              "    </tr>\n",
              "    <tr>\n",
              "      <th>2</th>\n",
              "      <td>349.2416</td>\n",
              "      <td>8.8258</td>\n",
              "      <td>3.8938</td>\n",
              "      <td>NaN</td>\n",
              "      <td>473.0903</td>\n",
              "      <td>1082.407</td>\n",
              "      <td>1110.417</td>\n",
              "      <td>277.4</td>\n",
              "    </tr>\n",
              "    <tr>\n",
              "      <th>3</th>\n",
              "      <td>349.367</td>\n",
              "      <td>8.8187</td>\n",
              "      <td>3.8985</td>\n",
              "      <td>NaN</td>\n",
              "      <td>269.0972</td>\n",
              "      <td>1074.769</td>\n",
              "      <td>1133.681</td>\n",
              "      <td>256.2</td>\n",
              "    </tr>\n",
              "    <tr>\n",
              "      <th>4</th>\n",
              "      <td>350.3519</td>\n",
              "      <td>8.7874</td>\n",
              "      <td>3.9070</td>\n",
              "      <td>NaN</td>\n",
              "      <td>151.9097</td>\n",
              "      <td>1077.778</td>\n",
              "      <td>1114.583</td>\n",
              "      <td>256.9</td>\n",
              "    </tr>\n",
              "  </tbody>\n",
              "</table>\n",
              "</div>"
            ],
            "text/plain": [
              "   KLFeedPV KLCoalPV  KLspeedPV  ...  KLInTemp     KLBZT  KLAmps\n",
              "0  349.1615    8.903     3.8973  ...  1086.111  1094.097   263.7\n",
              "1  351.4174   8.8528     3.9053  ...  1083.565  1116.667   254.3\n",
              "2  349.2416   8.8258     3.8938  ...  1082.407  1110.417   277.4\n",
              "3   349.367   8.8187     3.8985  ...  1074.769  1133.681   256.2\n",
              "4  350.3519   8.7874     3.9070  ...  1077.778  1114.583   256.9\n",
              "\n",
              "[5 rows x 8 columns]"
            ]
          },
          "metadata": {
            "tags": []
          },
          "execution_count": 9
        }
      ]
    },
    {
      "cell_type": "code",
      "metadata": {
        "id": "NpWRXUeF1U8K"
      },
      "source": [
        "data['KLFeedPV'] = pandas.to_numeric(data['KLFeedPV'], errors='coerce')\r\n",
        "data['KLCoalPV'] = pandas.to_numeric(data['KLCoalPV'], errors='coerce')\r\n",
        "data['KLspeedPV'] = pandas.to_numeric(data['KLspeedPV'], errors='coerce')\r\n",
        "data['KLNox'] = pandas.to_numeric(data['KLNox'], errors='coerce')\r\n",
        "data['KLInTemp'] = pandas.to_numeric(data['KLInTemp'], errors='coerce')\r\n",
        "data['KLBZT'] = pandas.to_numeric(data['KLBZT'], errors='coerce')\r\n",
        "data['KLAmps'] = pandas.to_numeric(data['KLAmps'], errors='coerce')"
      ],
      "execution_count": 10,
      "outputs": []
    },
    {
      "cell_type": "code",
      "metadata": {
        "id": "F-g_9bkI2f-l"
      },
      "source": [
        "data = data.replace(np.nan, 0, regex=True)"
      ],
      "execution_count": 11,
      "outputs": []
    },
    {
      "cell_type": "code",
      "metadata": {
        "id": "fTRe37EG0yq0"
      },
      "source": [
        "from tensorflow.keras.layers.experimental import preprocessing\r\n",
        "normalizer = preprocessing.Normalization()\r\n"
      ],
      "execution_count": 12,
      "outputs": []
    },
    {
      "cell_type": "code",
      "metadata": {
        "id": "z5jpPky8qshG"
      },
      "source": [
        "x = data[['KLFeedPV' , 'KLCoalPV' , 'KLspeedPV']].to_numpy()\r\n",
        "normalizer.adapt(np.array(x))"
      ],
      "execution_count": 13,
      "outputs": []
    },
    {
      "cell_type": "code",
      "metadata": {
        "id": "-afa-Wf_rdZX"
      },
      "source": [
        "y =  data[['KLNox' , 'KLInTemp' , 'KLBZT' , 'KLAmps']].to_numpy()"
      ],
      "execution_count": 14,
      "outputs": []
    },
    {
      "cell_type": "code",
      "metadata": {
        "id": "ahPTLrINVseJ"
      },
      "source": [
        "y1 = data['KLNox'].to_numpy()\r\n",
        "y2 = data['KLInTemp'].to_numpy()\r\n",
        "y3 = data['KLBZT'].to_numpy()\r\n",
        "y4 = data['KLAmps'].to_numpy()"
      ],
      "execution_count": 61,
      "outputs": []
    },
    {
      "cell_type": "code",
      "metadata": {
        "id": "sxjfXQxgoKvL"
      },
      "source": [
        "import tensorflow as tf\r\n",
        "from tensorflow.keras.layers import Dense"
      ],
      "execution_count": 15,
      "outputs": []
    },
    {
      "cell_type": "code",
      "metadata": {
        "id": "RsdEAhUHr2Ft"
      },
      "source": [
        "def plot_loss(history):\r\n",
        "  plt.plot(history.history['loss'], label='loss')\r\n",
        "  plt.plot(history.history['val_loss'], label='val_loss')\r\n",
        " \r\n",
        "  plt.xlabel('Epoch')\r\n",
        "  plt.ylabel('loss')\r\n",
        "  plt.legend()\r\n",
        "  plt.grid(True)"
      ],
      "execution_count": 21,
      "outputs": []
    },
    {
      "cell_type": "code",
      "metadata": {
        "id": "remqPZcJpXgE"
      },
      "source": [
        "tf.keras.backend.clear_session()\r\n",
        "model  = tf.keras.models.Sequential([\r\n",
        "    normalizer,\r\n",
        "    Dense(32 , activation  = 'relu'),\r\n",
        "    Dense(32 , activation = 'relu'),\r\n",
        "    Dense( 4 , activation = 'relu')\r\n",
        "])"
      ],
      "execution_count": 52,
      "outputs": []
    },
    {
      "cell_type": "code",
      "metadata": {
        "id": "aJriF0vRqiHN"
      },
      "source": [
        "model.compile(loss='mean_absolute_error',\r\n",
        "                optimizer=tf.keras.optimizers.SGD(0.001))"
      ],
      "execution_count": 53,
      "outputs": []
    },
    {
      "cell_type": "code",
      "metadata": {
        "id": "olFdMm0rrudb"
      },
      "source": [
        "history = model.fit(x , y , epochs = 200 , validation_split = 0.3)"
      ],
      "execution_count": null,
      "outputs": []
    },
    {
      "cell_type": "code",
      "metadata": {
        "id": "iJru5xv1BX5f"
      },
      "source": [
        "plot_loss(history)"
      ],
      "execution_count": null,
      "outputs": []
    },
    {
      "cell_type": "code",
      "metadata": {
        "id": "RAI0Gg2yLdqH"
      },
      "source": [
        "y_pred = model.predict(x)"
      ],
      "execution_count": 57,
      "outputs": []
    },
    {
      "cell_type": "code",
      "metadata": {
        "colab": {
          "base_uri": "https://localhost:8080/"
        },
        "id": "VvOuNvhaVBJW",
        "outputId": "83346781-83e4-4526-a4d9-dc1b4deea997"
      },
      "source": [
        "y_pred"
      ],
      "execution_count": 60,
      "outputs": [
        {
          "output_type": "execute_result",
          "data": {
            "text/plain": [
              "array([[ 663.0181 , 1078.7749 , 1110.4745 ,  262.3809 ],\n",
              "       [ 663.45374, 1078.3563 , 1109.4904 ,  272.2604 ],\n",
              "       [ 662.4577 , 1078.6832 , 1110.584  ,  259.78708],\n",
              "       ...,\n",
              "       [ 654.7938 , 1068.4799 , 1100.3776 ,  256.42865],\n",
              "       [ 655.0508 , 1068.3164 , 1099.9609 ,  260.8208 ],\n",
              "       [ 657.44775, 1070.6766 , 1101.7805 ,  271.709  ]], dtype=float32)"
            ]
          },
          "metadata": {
            "tags": []
          },
          "execution_count": 60
        }
      ]
    },
    {
      "cell_type": "code",
      "metadata": {
        "colab": {
          "base_uri": "https://localhost:8080/"
        },
        "id": "-FVn6_AYVHC1",
        "outputId": "5ffedd0a-7c38-453c-cb96-cac3618d4ca7"
      },
      "source": [
        "y"
      ],
      "execution_count": 59,
      "outputs": [
        {
          "output_type": "execute_result",
          "data": {
            "text/plain": [
              "array([[ 592.0139, 1086.111 , 1094.097 ,  263.7   ],\n",
              "       [ 593.75  , 1083.565 , 1116.667 ,  254.3   ],\n",
              "       [ 473.0903, 1082.407 , 1110.417 ,  277.4   ],\n",
              "       ...,\n",
              "       [1224.826 , 1081.713 , 1219.792 ,  317.8   ],\n",
              "       [ 876.7361, 1091.667 , 1275.347 ,  298.5   ],\n",
              "       [ 876.7361, 1093.056 , 1213.542 ,  314.3   ]])"
            ]
          },
          "metadata": {
            "tags": []
          },
          "execution_count": 59
        }
      ]
    },
    {
      "cell_type": "code",
      "metadata": {
        "colab": {
          "base_uri": "https://localhost:8080/",
          "height": 1000
        },
        "id": "2X8evA5yVHad",
        "outputId": "d6576191-7a3b-4d24-d462-30f1d922d230"
      },
      "source": [
        "tf.keras.backend.clear_session()\r\n",
        "model  = tf.keras.models.Sequential([\r\n",
        "    normalizer,\r\n",
        "    Dense(32 , activation  = 'relu'),\r\n",
        "    Dense(64 , activation = 'relu'),\r\n",
        "    Dense(32 , activation = 'relu'),\r\n",
        "    Dense( 1 , activation = 'relu')\r\n",
        "])\r\n",
        "model.compile(loss='mean_absolute_error',\r\n",
        "                optimizer=tf.keras.optimizers.SGD(0.0001))\r\n",
        "history = model.fit(x , y1 , epochs = 200 , validation_split = 0.3)"
      ],
      "execution_count": null,
      "outputs": [
        {
          "output_type": "stream",
          "text": [
            "Epoch 1/200\n",
            "291/291 [==============================] - 1s 2ms/step - loss: 515.7075 - val_loss: 581.0944\n",
            "Epoch 2/200\n",
            "291/291 [==============================] - 0s 2ms/step - loss: 516.6251 - val_loss: 581.0944\n",
            "Epoch 3/200\n",
            "291/291 [==============================] - 0s 1ms/step - loss: 518.5060 - val_loss: 581.0944\n",
            "Epoch 4/200\n",
            "291/291 [==============================] - 0s 1ms/step - loss: 519.6918 - val_loss: 581.0944\n",
            "Epoch 5/200\n",
            "291/291 [==============================] - 0s 2ms/step - loss: 515.7579 - val_loss: 581.0944\n",
            "Epoch 6/200\n",
            "291/291 [==============================] - 0s 2ms/step - loss: 517.6142 - val_loss: 581.0944\n",
            "Epoch 7/200\n",
            "291/291 [==============================] - 0s 1ms/step - loss: 520.3888 - val_loss: 581.0944\n",
            "Epoch 8/200\n",
            "291/291 [==============================] - 0s 2ms/step - loss: 517.4907 - val_loss: 581.0944\n",
            "Epoch 9/200\n",
            "291/291 [==============================] - 0s 2ms/step - loss: 518.3016 - val_loss: 581.0944\n",
            "Epoch 10/200\n",
            "291/291 [==============================] - 0s 2ms/step - loss: 517.2992 - val_loss: 581.0944\n",
            "Epoch 11/200\n",
            "291/291 [==============================] - 0s 2ms/step - loss: 518.8251 - val_loss: 581.0944\n",
            "Epoch 12/200\n",
            "291/291 [==============================] - 0s 2ms/step - loss: 520.2452 - val_loss: 581.0944\n",
            "Epoch 13/200\n",
            "291/291 [==============================] - 1s 2ms/step - loss: 517.0738 - val_loss: 581.0944\n",
            "Epoch 14/200\n",
            "291/291 [==============================] - 0s 2ms/step - loss: 516.7681 - val_loss: 581.0944\n",
            "Epoch 15/200\n",
            "291/291 [==============================] - 0s 2ms/step - loss: 518.8518 - val_loss: 581.0944\n",
            "Epoch 16/200\n",
            "291/291 [==============================] - 0s 2ms/step - loss: 522.2919 - val_loss: 581.0944\n",
            "Epoch 17/200\n",
            "291/291 [==============================] - 0s 2ms/step - loss: 509.4741 - val_loss: 581.0944\n",
            "Epoch 18/200\n",
            "291/291 [==============================] - 0s 2ms/step - loss: 517.6049 - val_loss: 581.0944\n",
            "Epoch 19/200\n",
            "291/291 [==============================] - 0s 2ms/step - loss: 516.7822 - val_loss: 581.0944\n",
            "Epoch 20/200\n",
            "291/291 [==============================] - 0s 1ms/step - loss: 516.5155 - val_loss: 581.0944\n",
            "Epoch 21/200\n",
            "291/291 [==============================] - 0s 2ms/step - loss: 515.6351 - val_loss: 581.0944\n",
            "Epoch 22/200\n",
            "291/291 [==============================] - 0s 2ms/step - loss: 519.0276 - val_loss: 581.0944\n",
            "Epoch 23/200\n",
            "291/291 [==============================] - 0s 2ms/step - loss: 518.6094 - val_loss: 581.0944\n",
            "Epoch 24/200\n",
            "291/291 [==============================] - 0s 2ms/step - loss: 519.9508 - val_loss: 581.0944\n",
            "Epoch 25/200\n",
            "291/291 [==============================] - 0s 2ms/step - loss: 517.9423 - val_loss: 581.0944\n",
            "Epoch 26/200\n",
            "291/291 [==============================] - 0s 2ms/step - loss: 519.7138 - val_loss: 581.0944\n",
            "Epoch 27/200\n",
            "291/291 [==============================] - 0s 2ms/step - loss: 512.8972 - val_loss: 581.0944\n",
            "Epoch 28/200\n",
            "291/291 [==============================] - 0s 2ms/step - loss: 515.5152 - val_loss: 581.0944\n",
            "Epoch 29/200\n",
            "291/291 [==============================] - 0s 2ms/step - loss: 516.7934 - val_loss: 581.0944\n",
            "Epoch 30/200\n",
            "291/291 [==============================] - 0s 2ms/step - loss: 517.4880 - val_loss: 581.0944\n",
            "Epoch 31/200\n",
            "291/291 [==============================] - 0s 2ms/step - loss: 518.1036 - val_loss: 581.0944\n",
            "Epoch 32/200\n",
            "291/291 [==============================] - 0s 2ms/step - loss: 517.1547 - val_loss: 581.0944\n",
            "Epoch 33/200\n",
            "291/291 [==============================] - 0s 2ms/step - loss: 519.2757 - val_loss: 581.0944\n",
            "Epoch 34/200\n",
            "291/291 [==============================] - 0s 1ms/step - loss: 515.0479 - val_loss: 581.0943\n",
            "Epoch 35/200\n",
            "291/291 [==============================] - 0s 2ms/step - loss: 521.7892 - val_loss: 581.0931\n",
            "Epoch 36/200\n",
            "291/291 [==============================] - 0s 2ms/step - loss: 521.0824 - val_loss: 581.0822\n",
            "Epoch 37/200\n",
            "291/291 [==============================] - 0s 2ms/step - loss: 522.8810 - val_loss: 581.0324\n",
            "Epoch 38/200\n",
            "291/291 [==============================] - 0s 2ms/step - loss: 517.3824 - val_loss: 580.9730\n",
            "Epoch 39/200\n",
            "291/291 [==============================] - 0s 2ms/step - loss: 517.2202 - val_loss: 580.9154\n",
            "Epoch 40/200\n",
            "291/291 [==============================] - 0s 1ms/step - loss: 516.9415 - val_loss: 580.8594\n",
            "Epoch 41/200\n",
            "291/291 [==============================] - 0s 2ms/step - loss: 519.3905 - val_loss: 580.8033\n",
            "Epoch 42/200\n",
            "291/291 [==============================] - 0s 2ms/step - loss: 518.2278 - val_loss: 580.7469\n",
            "Epoch 43/200\n",
            "291/291 [==============================] - 0s 2ms/step - loss: 512.3577 - val_loss: 580.6895\n",
            "Epoch 44/200\n",
            "291/291 [==============================] - 0s 2ms/step - loss: 518.7897 - val_loss: 580.6307\n",
            "Epoch 45/200\n",
            "291/291 [==============================] - 0s 2ms/step - loss: 515.6323 - val_loss: 580.5694\n",
            "Epoch 46/200\n",
            "291/291 [==============================] - 0s 2ms/step - loss: 519.7590 - val_loss: 580.5049\n",
            "Epoch 47/200\n",
            "291/291 [==============================] - 0s 2ms/step - loss: 519.6297 - val_loss: 580.4366\n",
            "Epoch 48/200\n",
            "291/291 [==============================] - 0s 2ms/step - loss: 517.5276 - val_loss: 580.3638\n",
            "Epoch 49/200\n",
            "291/291 [==============================] - 0s 2ms/step - loss: 515.6441 - val_loss: 580.2856\n",
            "Epoch 50/200\n",
            "291/291 [==============================] - 0s 2ms/step - loss: 515.4706 - val_loss: 580.2009\n",
            "Epoch 51/200\n",
            "291/291 [==============================] - 0s 1ms/step - loss: 518.5575 - val_loss: 580.1099\n",
            "Epoch 52/200\n",
            "291/291 [==============================] - 0s 2ms/step - loss: 517.4577 - val_loss: 580.0125\n",
            "Epoch 53/200\n",
            "291/291 [==============================] - 0s 2ms/step - loss: 516.3333 - val_loss: 579.9075\n",
            "Epoch 54/200\n",
            "291/291 [==============================] - 0s 2ms/step - loss: 522.3651 - val_loss: 579.7946\n",
            "Epoch 55/200\n",
            "291/291 [==============================] - 0s 2ms/step - loss: 514.7686 - val_loss: 579.6693\n",
            "Epoch 56/200\n",
            "291/291 [==============================] - 0s 2ms/step - loss: 513.7695 - val_loss: 579.5295\n",
            "Epoch 57/200\n",
            "291/291 [==============================] - 1s 2ms/step - loss: 517.7501 - val_loss: 579.3753\n",
            "Epoch 58/200\n",
            "291/291 [==============================] - 0s 2ms/step - loss: 514.4502 - val_loss: 579.2043\n",
            "Epoch 59/200\n",
            "291/291 [==============================] - 0s 2ms/step - loss: 517.4639 - val_loss: 579.0123\n",
            "Epoch 60/200\n",
            "291/291 [==============================] - 0s 2ms/step - loss: 516.4544 - val_loss: 578.7957\n",
            "Epoch 61/200\n",
            "291/291 [==============================] - 0s 2ms/step - loss: 514.3925 - val_loss: 578.5479\n",
            "Epoch 62/200\n",
            "291/291 [==============================] - 0s 2ms/step - loss: 514.7325 - val_loss: 578.2621\n",
            "Epoch 63/200\n",
            "291/291 [==============================] - 0s 2ms/step - loss: 518.2474 - val_loss: 577.9280\n",
            "Epoch 64/200\n",
            "291/291 [==============================] - 0s 2ms/step - loss: 514.3332 - val_loss: 577.5319\n",
            "Epoch 65/200\n",
            "291/291 [==============================] - 0s 2ms/step - loss: 507.3045 - val_loss: 577.0540\n",
            "Epoch 66/200\n",
            "291/291 [==============================] - 0s 2ms/step - loss: 511.5202 - val_loss: 576.4670\n",
            "Epoch 67/200\n",
            "291/291 [==============================] - 0s 2ms/step - loss: 513.8967 - val_loss: 575.7305\n",
            "Epoch 68/200\n",
            "291/291 [==============================] - 0s 2ms/step - loss: 514.9642 - val_loss: 574.7808\n",
            "Epoch 69/200\n",
            "291/291 [==============================] - 0s 2ms/step - loss: 517.3732 - val_loss: 573.5164\n",
            "Epoch 70/200\n",
            "291/291 [==============================] - 0s 2ms/step - loss: 508.9840 - val_loss: 571.7612\n",
            "Epoch 71/200\n",
            "291/291 [==============================] - 0s 2ms/step - loss: 506.6910 - val_loss: 569.1904\n",
            "Epoch 72/200\n",
            "291/291 [==============================] - 0s 2ms/step - loss: 506.2518 - val_loss: 565.1443\n",
            "Epoch 73/200\n",
            "291/291 [==============================] - 0s 2ms/step - loss: 505.2879 - val_loss: 558.0873\n",
            "Epoch 74/200\n",
            "291/291 [==============================] - 0s 2ms/step - loss: 489.8723 - val_loss: 544.3242\n",
            "Epoch 75/200\n",
            "291/291 [==============================] - 0s 1ms/step - loss: 472.1449 - val_loss: 523.8928\n",
            "Epoch 76/200\n",
            "291/291 [==============================] - 0s 2ms/step - loss: 449.7905 - val_loss: 483.0045\n",
            "Epoch 77/200\n",
            "291/291 [==============================] - 0s 2ms/step - loss: 393.2686 - val_loss: 380.6305\n",
            "Epoch 78/200\n",
            "291/291 [==============================] - 0s 2ms/step - loss: 255.9378 - val_loss: 255.1384\n",
            "Epoch 79/200\n",
            "291/291 [==============================] - 0s 2ms/step - loss: 172.2645 - val_loss: 249.6393\n",
            "Epoch 80/200\n",
            "291/291 [==============================] - 0s 2ms/step - loss: 175.4452 - val_loss: 243.7106\n",
            "Epoch 81/200\n",
            "291/291 [==============================] - 0s 2ms/step - loss: 170.1034 - val_loss: 236.4472\n",
            "Epoch 82/200\n",
            "291/291 [==============================] - 0s 2ms/step - loss: 169.4621 - val_loss: 229.9523\n",
            "Epoch 83/200\n",
            "291/291 [==============================] - 0s 2ms/step - loss: 170.7176 - val_loss: 224.0362\n",
            "Epoch 84/200\n",
            "291/291 [==============================] - 0s 2ms/step - loss: 168.0187 - val_loss: 218.6760\n",
            "Epoch 85/200\n",
            "291/291 [==============================] - 0s 2ms/step - loss: 164.6873 - val_loss: 215.0334\n",
            "Epoch 86/200\n",
            "291/291 [==============================] - 0s 2ms/step - loss: 163.4459 - val_loss: 211.0239\n",
            "Epoch 87/200\n",
            "291/291 [==============================] - 0s 1ms/step - loss: 166.9200 - val_loss: 210.1047\n",
            "Epoch 88/200\n",
            "291/291 [==============================] - 0s 2ms/step - loss: 162.6299 - val_loss: 211.1142\n",
            "Epoch 89/200\n",
            "291/291 [==============================] - 0s 2ms/step - loss: 164.1005 - val_loss: 209.9007\n",
            "Epoch 90/200\n",
            "291/291 [==============================] - 0s 2ms/step - loss: 163.8516 - val_loss: 210.3864\n",
            "Epoch 91/200\n",
            "291/291 [==============================] - 0s 2ms/step - loss: 164.9445 - val_loss: 211.2078\n",
            "Epoch 92/200\n",
            "291/291 [==============================] - 0s 2ms/step - loss: 163.0494 - val_loss: 210.5720\n",
            "Epoch 93/200\n",
            "291/291 [==============================] - 0s 2ms/step - loss: 165.9672 - val_loss: 209.5730\n",
            "Epoch 94/200\n",
            "291/291 [==============================] - 0s 2ms/step - loss: 165.3813 - val_loss: 209.5238\n",
            "Epoch 95/200\n",
            "291/291 [==============================] - 0s 2ms/step - loss: 159.5008 - val_loss: 209.4746\n",
            "Epoch 96/200\n",
            "291/291 [==============================] - 0s 2ms/step - loss: 164.1385 - val_loss: 209.4575\n",
            "Epoch 97/200\n",
            "291/291 [==============================] - 0s 2ms/step - loss: 161.5247 - val_loss: 209.5548\n",
            "Epoch 98/200\n",
            "291/291 [==============================] - 1s 2ms/step - loss: 163.3760 - val_loss: 209.4091\n",
            "Epoch 99/200\n",
            "291/291 [==============================] - 0s 2ms/step - loss: 163.1951 - val_loss: 209.3715\n",
            "Epoch 100/200\n",
            "291/291 [==============================] - 0s 2ms/step - loss: 165.1761 - val_loss: 209.6806\n",
            "Epoch 101/200\n",
            "291/291 [==============================] - 0s 2ms/step - loss: 164.7970 - val_loss: 209.1929\n",
            "Epoch 102/200\n",
            "291/291 [==============================] - 0s 2ms/step - loss: 163.4429 - val_loss: 209.4530\n",
            "Epoch 103/200\n",
            "291/291 [==============================] - 1s 2ms/step - loss: 163.1008 - val_loss: 209.1474\n",
            "Epoch 104/200\n",
            "291/291 [==============================] - 0s 2ms/step - loss: 164.2365 - val_loss: 209.0728\n",
            "Epoch 105/200\n",
            "291/291 [==============================] - 0s 2ms/step - loss: 163.6731 - val_loss: 209.0392\n",
            "Epoch 106/200\n",
            "291/291 [==============================] - 0s 2ms/step - loss: 160.8853 - val_loss: 209.0693\n",
            "Epoch 107/200\n",
            "291/291 [==============================] - 0s 2ms/step - loss: 165.7990 - val_loss: 209.0418\n",
            "Epoch 108/200\n",
            "291/291 [==============================] - 0s 2ms/step - loss: 162.8086 - val_loss: 209.0112\n",
            "Epoch 109/200\n",
            "291/291 [==============================] - 0s 2ms/step - loss: 162.4781 - val_loss: 208.9351\n",
            "Epoch 110/200\n",
            "291/291 [==============================] - 0s 2ms/step - loss: 164.7368 - val_loss: 209.0154\n",
            "Epoch 111/200\n",
            "291/291 [==============================] - 0s 1ms/step - loss: 163.0530 - val_loss: 208.9024\n",
            "Epoch 112/200\n",
            "291/291 [==============================] - 0s 2ms/step - loss: 157.3270 - val_loss: 209.2182\n",
            "Epoch 113/200\n",
            "291/291 [==============================] - 0s 1ms/step - loss: 165.0395 - val_loss: 209.1525\n",
            "Epoch 114/200\n",
            "291/291 [==============================] - 0s 2ms/step - loss: 159.4401 - val_loss: 209.1206\n",
            "Epoch 115/200\n",
            "291/291 [==============================] - 0s 2ms/step - loss: 164.5524 - val_loss: 208.8817\n",
            "Epoch 116/200\n",
            "291/291 [==============================] - 0s 2ms/step - loss: 165.0705 - val_loss: 208.9368\n",
            "Epoch 117/200\n",
            "291/291 [==============================] - 0s 2ms/step - loss: 163.3521 - val_loss: 209.2302\n",
            "Epoch 118/200\n",
            "291/291 [==============================] - 0s 2ms/step - loss: 160.2744 - val_loss: 209.5750\n",
            "Epoch 119/200\n",
            "142/291 [=============>................] - ETA: 0s - loss: 162.6884"
          ],
          "name": "stdout"
        },
        {
          "output_type": "error",
          "ename": "KeyboardInterrupt",
          "evalue": "ignored",
          "traceback": [
            "\u001b[0;31m---------------------------------------------------------------------------\u001b[0m",
            "\u001b[0;31mKeyboardInterrupt\u001b[0m                         Traceback (most recent call last)",
            "\u001b[0;32m<ipython-input-67-a93bfa53b9b2>\u001b[0m in \u001b[0;36m<module>\u001b[0;34m()\u001b[0m\n\u001b[1;32m      9\u001b[0m model.compile(loss='mean_absolute_error',\n\u001b[1;32m     10\u001b[0m                 optimizer=tf.keras.optimizers.SGD(0.0001))\n\u001b[0;32m---> 11\u001b[0;31m \u001b[0mhistory\u001b[0m \u001b[0;34m=\u001b[0m \u001b[0mmodel\u001b[0m\u001b[0;34m.\u001b[0m\u001b[0mfit\u001b[0m\u001b[0;34m(\u001b[0m\u001b[0mx\u001b[0m \u001b[0;34m,\u001b[0m \u001b[0my1\u001b[0m \u001b[0;34m,\u001b[0m \u001b[0mepochs\u001b[0m \u001b[0;34m=\u001b[0m \u001b[0;36m200\u001b[0m \u001b[0;34m,\u001b[0m \u001b[0mvalidation_split\u001b[0m \u001b[0;34m=\u001b[0m \u001b[0;36m0.3\u001b[0m\u001b[0;34m)\u001b[0m\u001b[0;34m\u001b[0m\u001b[0;34m\u001b[0m\u001b[0m\n\u001b[0m",
            "\u001b[0;32m/usr/local/lib/python3.6/dist-packages/tensorflow/python/keras/engine/training.py\u001b[0m in \u001b[0;36mfit\u001b[0;34m(self, x, y, batch_size, epochs, verbose, callbacks, validation_split, validation_data, shuffle, class_weight, sample_weight, initial_epoch, steps_per_epoch, validation_steps, validation_batch_size, validation_freq, max_queue_size, workers, use_multiprocessing)\u001b[0m\n\u001b[1;32m   1098\u001b[0m                 _r=1):\n\u001b[1;32m   1099\u001b[0m               \u001b[0mcallbacks\u001b[0m\u001b[0;34m.\u001b[0m\u001b[0mon_train_batch_begin\u001b[0m\u001b[0;34m(\u001b[0m\u001b[0mstep\u001b[0m\u001b[0;34m)\u001b[0m\u001b[0;34m\u001b[0m\u001b[0;34m\u001b[0m\u001b[0m\n\u001b[0;32m-> 1100\u001b[0;31m               \u001b[0mtmp_logs\u001b[0m \u001b[0;34m=\u001b[0m \u001b[0mself\u001b[0m\u001b[0;34m.\u001b[0m\u001b[0mtrain_function\u001b[0m\u001b[0;34m(\u001b[0m\u001b[0miterator\u001b[0m\u001b[0;34m)\u001b[0m\u001b[0;34m\u001b[0m\u001b[0;34m\u001b[0m\u001b[0m\n\u001b[0m\u001b[1;32m   1101\u001b[0m               \u001b[0;32mif\u001b[0m \u001b[0mdata_handler\u001b[0m\u001b[0;34m.\u001b[0m\u001b[0mshould_sync\u001b[0m\u001b[0;34m:\u001b[0m\u001b[0;34m\u001b[0m\u001b[0;34m\u001b[0m\u001b[0m\n\u001b[1;32m   1102\u001b[0m                 \u001b[0mcontext\u001b[0m\u001b[0;34m.\u001b[0m\u001b[0masync_wait\u001b[0m\u001b[0;34m(\u001b[0m\u001b[0;34m)\u001b[0m\u001b[0;34m\u001b[0m\u001b[0;34m\u001b[0m\u001b[0m\n",
            "\u001b[0;32m/usr/local/lib/python3.6/dist-packages/tensorflow/python/eager/def_function.py\u001b[0m in \u001b[0;36m__call__\u001b[0;34m(self, *args, **kwds)\u001b[0m\n\u001b[1;32m    826\u001b[0m     \u001b[0mtracing_count\u001b[0m \u001b[0;34m=\u001b[0m \u001b[0mself\u001b[0m\u001b[0;34m.\u001b[0m\u001b[0mexperimental_get_tracing_count\u001b[0m\u001b[0;34m(\u001b[0m\u001b[0;34m)\u001b[0m\u001b[0;34m\u001b[0m\u001b[0;34m\u001b[0m\u001b[0m\n\u001b[1;32m    827\u001b[0m     \u001b[0;32mwith\u001b[0m \u001b[0mtrace\u001b[0m\u001b[0;34m.\u001b[0m\u001b[0mTrace\u001b[0m\u001b[0;34m(\u001b[0m\u001b[0mself\u001b[0m\u001b[0;34m.\u001b[0m\u001b[0m_name\u001b[0m\u001b[0;34m)\u001b[0m \u001b[0;32mas\u001b[0m \u001b[0mtm\u001b[0m\u001b[0;34m:\u001b[0m\u001b[0;34m\u001b[0m\u001b[0;34m\u001b[0m\u001b[0m\n\u001b[0;32m--> 828\u001b[0;31m       \u001b[0mresult\u001b[0m \u001b[0;34m=\u001b[0m \u001b[0mself\u001b[0m\u001b[0;34m.\u001b[0m\u001b[0m_call\u001b[0m\u001b[0;34m(\u001b[0m\u001b[0;34m*\u001b[0m\u001b[0margs\u001b[0m\u001b[0;34m,\u001b[0m \u001b[0;34m**\u001b[0m\u001b[0mkwds\u001b[0m\u001b[0;34m)\u001b[0m\u001b[0;34m\u001b[0m\u001b[0;34m\u001b[0m\u001b[0m\n\u001b[0m\u001b[1;32m    829\u001b[0m       \u001b[0mcompiler\u001b[0m \u001b[0;34m=\u001b[0m \u001b[0;34m\"xla\"\u001b[0m \u001b[0;32mif\u001b[0m \u001b[0mself\u001b[0m\u001b[0;34m.\u001b[0m\u001b[0m_experimental_compile\u001b[0m \u001b[0;32melse\u001b[0m \u001b[0;34m\"nonXla\"\u001b[0m\u001b[0;34m\u001b[0m\u001b[0;34m\u001b[0m\u001b[0m\n\u001b[1;32m    830\u001b[0m       \u001b[0mnew_tracing_count\u001b[0m \u001b[0;34m=\u001b[0m \u001b[0mself\u001b[0m\u001b[0;34m.\u001b[0m\u001b[0mexperimental_get_tracing_count\u001b[0m\u001b[0;34m(\u001b[0m\u001b[0;34m)\u001b[0m\u001b[0;34m\u001b[0m\u001b[0;34m\u001b[0m\u001b[0m\n",
            "\u001b[0;32m/usr/local/lib/python3.6/dist-packages/tensorflow/python/eager/def_function.py\u001b[0m in \u001b[0;36m_call\u001b[0;34m(self, *args, **kwds)\u001b[0m\n\u001b[1;32m    853\u001b[0m       \u001b[0;31m# In this case we have created variables on the first call, so we run the\u001b[0m\u001b[0;34m\u001b[0m\u001b[0;34m\u001b[0m\u001b[0;34m\u001b[0m\u001b[0m\n\u001b[1;32m    854\u001b[0m       \u001b[0;31m# defunned version which is guaranteed to never create variables.\u001b[0m\u001b[0;34m\u001b[0m\u001b[0;34m\u001b[0m\u001b[0;34m\u001b[0m\u001b[0m\n\u001b[0;32m--> 855\u001b[0;31m       \u001b[0;32mreturn\u001b[0m \u001b[0mself\u001b[0m\u001b[0;34m.\u001b[0m\u001b[0m_stateless_fn\u001b[0m\u001b[0;34m(\u001b[0m\u001b[0;34m*\u001b[0m\u001b[0margs\u001b[0m\u001b[0;34m,\u001b[0m \u001b[0;34m**\u001b[0m\u001b[0mkwds\u001b[0m\u001b[0;34m)\u001b[0m  \u001b[0;31m# pylint: disable=not-callable\u001b[0m\u001b[0;34m\u001b[0m\u001b[0;34m\u001b[0m\u001b[0m\n\u001b[0m\u001b[1;32m    856\u001b[0m     \u001b[0;32melif\u001b[0m \u001b[0mself\u001b[0m\u001b[0;34m.\u001b[0m\u001b[0m_stateful_fn\u001b[0m \u001b[0;32mis\u001b[0m \u001b[0;32mnot\u001b[0m \u001b[0;32mNone\u001b[0m\u001b[0;34m:\u001b[0m\u001b[0;34m\u001b[0m\u001b[0;34m\u001b[0m\u001b[0m\n\u001b[1;32m    857\u001b[0m       \u001b[0;31m# Release the lock early so that multiple threads can perform the call\u001b[0m\u001b[0;34m\u001b[0m\u001b[0;34m\u001b[0m\u001b[0;34m\u001b[0m\u001b[0m\n",
            "\u001b[0;32m/usr/local/lib/python3.6/dist-packages/tensorflow/python/eager/function.py\u001b[0m in \u001b[0;36m__call__\u001b[0;34m(self, *args, **kwargs)\u001b[0m\n\u001b[1;32m   2941\u001b[0m        filtered_flat_args) = self._maybe_define_function(args, kwargs)\n\u001b[1;32m   2942\u001b[0m     return graph_function._call_flat(\n\u001b[0;32m-> 2943\u001b[0;31m         filtered_flat_args, captured_inputs=graph_function.captured_inputs)  # pylint: disable=protected-access\n\u001b[0m\u001b[1;32m   2944\u001b[0m \u001b[0;34m\u001b[0m\u001b[0m\n\u001b[1;32m   2945\u001b[0m   \u001b[0;34m@\u001b[0m\u001b[0mproperty\u001b[0m\u001b[0;34m\u001b[0m\u001b[0;34m\u001b[0m\u001b[0m\n",
            "\u001b[0;32m/usr/local/lib/python3.6/dist-packages/tensorflow/python/eager/function.py\u001b[0m in \u001b[0;36m_call_flat\u001b[0;34m(self, args, captured_inputs, cancellation_manager)\u001b[0m\n\u001b[1;32m   1917\u001b[0m       \u001b[0;31m# No tape is watching; skip to running the function.\u001b[0m\u001b[0;34m\u001b[0m\u001b[0;34m\u001b[0m\u001b[0;34m\u001b[0m\u001b[0m\n\u001b[1;32m   1918\u001b[0m       return self._build_call_outputs(self._inference_function.call(\n\u001b[0;32m-> 1919\u001b[0;31m           ctx, args, cancellation_manager=cancellation_manager))\n\u001b[0m\u001b[1;32m   1920\u001b[0m     forward_backward = self._select_forward_and_backward_functions(\n\u001b[1;32m   1921\u001b[0m         \u001b[0margs\u001b[0m\u001b[0;34m,\u001b[0m\u001b[0;34m\u001b[0m\u001b[0;34m\u001b[0m\u001b[0m\n",
            "\u001b[0;32m/usr/local/lib/python3.6/dist-packages/tensorflow/python/eager/function.py\u001b[0m in \u001b[0;36mcall\u001b[0;34m(self, ctx, args, cancellation_manager)\u001b[0m\n\u001b[1;32m    558\u001b[0m               \u001b[0minputs\u001b[0m\u001b[0;34m=\u001b[0m\u001b[0margs\u001b[0m\u001b[0;34m,\u001b[0m\u001b[0;34m\u001b[0m\u001b[0;34m\u001b[0m\u001b[0m\n\u001b[1;32m    559\u001b[0m               \u001b[0mattrs\u001b[0m\u001b[0;34m=\u001b[0m\u001b[0mattrs\u001b[0m\u001b[0;34m,\u001b[0m\u001b[0;34m\u001b[0m\u001b[0;34m\u001b[0m\u001b[0m\n\u001b[0;32m--> 560\u001b[0;31m               ctx=ctx)\n\u001b[0m\u001b[1;32m    561\u001b[0m         \u001b[0;32melse\u001b[0m\u001b[0;34m:\u001b[0m\u001b[0;34m\u001b[0m\u001b[0;34m\u001b[0m\u001b[0m\n\u001b[1;32m    562\u001b[0m           outputs = execute.execute_with_cancellation(\n",
            "\u001b[0;32m/usr/local/lib/python3.6/dist-packages/tensorflow/python/eager/execute.py\u001b[0m in \u001b[0;36mquick_execute\u001b[0;34m(op_name, num_outputs, inputs, attrs, ctx, name)\u001b[0m\n\u001b[1;32m     58\u001b[0m     \u001b[0mctx\u001b[0m\u001b[0;34m.\u001b[0m\u001b[0mensure_initialized\u001b[0m\u001b[0;34m(\u001b[0m\u001b[0;34m)\u001b[0m\u001b[0;34m\u001b[0m\u001b[0;34m\u001b[0m\u001b[0m\n\u001b[1;32m     59\u001b[0m     tensors = pywrap_tfe.TFE_Py_Execute(ctx._handle, device_name, op_name,\n\u001b[0;32m---> 60\u001b[0;31m                                         inputs, attrs, num_outputs)\n\u001b[0m\u001b[1;32m     61\u001b[0m   \u001b[0;32mexcept\u001b[0m \u001b[0mcore\u001b[0m\u001b[0;34m.\u001b[0m\u001b[0m_NotOkStatusException\u001b[0m \u001b[0;32mas\u001b[0m \u001b[0me\u001b[0m\u001b[0;34m:\u001b[0m\u001b[0;34m\u001b[0m\u001b[0;34m\u001b[0m\u001b[0m\n\u001b[1;32m     62\u001b[0m     \u001b[0;32mif\u001b[0m \u001b[0mname\u001b[0m \u001b[0;32mis\u001b[0m \u001b[0;32mnot\u001b[0m \u001b[0;32mNone\u001b[0m\u001b[0;34m:\u001b[0m\u001b[0;34m\u001b[0m\u001b[0;34m\u001b[0m\u001b[0m\n",
            "\u001b[0;31mKeyboardInterrupt\u001b[0m: "
          ]
        },
        {
          "output_type": "stream",
          "text": [
            "ERROR:tornado.general:Uncaught exception in ZMQStream callback\n",
            "Traceback (most recent call last):\n",
            "  File \"/usr/local/lib/python3.6/dist-packages/zmq/eventloop/zmqstream.py\", line 444, in _run_callback\n",
            "    callback(*args, **kwargs)\n",
            "  File \"/usr/local/lib/python3.6/dist-packages/tornado/stack_context.py\", line 300, in null_wrapper\n",
            "    return fn(*args, **kwargs)\n",
            "  File \"/usr/local/lib/python3.6/dist-packages/ipykernel/kernelbase.py\", line 283, in dispatcher\n",
            "    return self.dispatch_shell(stream, msg)\n",
            "  File \"/usr/local/lib/python3.6/dist-packages/ipykernel/kernelbase.py\", line 233, in dispatch_shell\n",
            "    handler(stream, idents, msg)\n",
            "  File \"/usr/local/lib/python3.6/dist-packages/ipykernel/kernelbase.py\", line 421, in execute_request\n",
            "    self._abort_queues()\n",
            "  File \"/usr/local/lib/python3.6/dist-packages/ipykernel/kernelbase.py\", line 636, in _abort_queues\n",
            "    self._abort_queue(stream)\n",
            "  File \"/usr/local/lib/python3.6/dist-packages/ipykernel/kernelbase.py\", line 661, in _abort_queue\n",
            "    poller.poll(50)\n",
            "  File \"/usr/local/lib/python3.6/dist-packages/zmq/sugar/poll.py\", line 103, in poll\n",
            "    return zmq_poll(self.sockets, timeout=timeout)\n",
            "  File \"zmq/backend/cython/_poll.pyx\", line 123, in zmq.backend.cython._poll.zmq_poll\n",
            "  File \"zmq/backend/cython/checkrc.pxd\", line 13, in zmq.backend.cython.checkrc._check_rc\n",
            "KeyboardInterrupt\n"
          ],
          "name": "stderr"
        }
      ]
    },
    {
      "cell_type": "code",
      "metadata": {
        "colab": {
          "base_uri": "https://localhost:8080/",
          "height": 168
        },
        "id": "1eRoDeMgWeoM",
        "outputId": "6013b7ec-3673-45ad-c42e-7bddb790aa34"
      },
      "source": [
        "plot_loss(history)"
      ],
      "execution_count": 1,
      "outputs": [
        {
          "output_type": "error",
          "ename": "NameError",
          "evalue": "ignored",
          "traceback": [
            "\u001b[0;31m---------------------------------------------------------------------------\u001b[0m",
            "\u001b[0;31mNameError\u001b[0m                                 Traceback (most recent call last)",
            "\u001b[0;32m<ipython-input-1-a5d8c9c0dab5>\u001b[0m in \u001b[0;36m<module>\u001b[0;34m()\u001b[0m\n\u001b[0;32m----> 1\u001b[0;31m \u001b[0mplot_loss\u001b[0m\u001b[0;34m(\u001b[0m\u001b[0mhistory\u001b[0m\u001b[0;34m)\u001b[0m\u001b[0;34m\u001b[0m\u001b[0;34m\u001b[0m\u001b[0m\n\u001b[0m",
            "\u001b[0;31mNameError\u001b[0m: name 'plot_loss' is not defined"
          ]
        }
      ]
    },
    {
      "cell_type": "code",
      "metadata": {
        "id": "uypeBUd1XBt4"
      },
      "source": [
        ""
      ],
      "execution_count": null,
      "outputs": []
    }
  ]
}