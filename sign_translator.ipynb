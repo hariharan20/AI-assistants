{
 "cells": [
  {
   "cell_type": "code",
   "execution_count": 2,
   "metadata": {},
   "outputs": [],
   "source": [
    "import csv\n",
    "import numpy as np\n",
    "import tensorflow as tf\n",
    "from tensorflow.keras.preprocessing.image import ImageDataGenerator\n",
    "from os import getcwd"
   ]
  },
  {
   "cell_type": "code",
   "execution_count": 3,
   "metadata": {},
   "outputs": [
    {
     "name": "stdout",
     "output_type": "stream",
     "text": [
      "(27455, 28, 28)\n",
      "(27455,)\n",
      "(7172, 28, 28)\n",
      "(7172,)\n"
     ]
    }
   ],
   "source": [
    "def get_data(filename):\n",
    "    with open(filename) as training_file:\n",
    "        reader = csv.reader(training_file, delimiter=',')    \n",
    "        imgs = []\n",
    "        labels = []\n",
    "\n",
    "        next(reader, None)\n",
    "        \n",
    "        for row in reader:\n",
    "            label = row[0]\n",
    "            data = row[1:]\n",
    "            img = np.array(data).reshape((28, 28))\n",
    "\n",
    "            imgs.append(img)\n",
    "            labels.append(label)\n",
    "\n",
    "        images = np.array(imgs).astype(float)\n",
    "        labels = np.array(labels).astype(float)  \n",
    "    return images, labels\n",
    "\n",
    "path_sign_mnist_train = f\"{getcwd()}/../tmp2/sign_mnist_train.csv\"\n",
    "path_sign_mnist_test = f\"{getcwd()}/../tmp2/sign_mnist_test.csv\"\n",
    "training_images, training_labels = get_data(path_sign_mnist_train)\n",
    "testing_images, testing_labels = get_data(path_sign_mnist_test)\n",
    "print(training_images.shape)\n",
    "print(training_labels.shape)\n",
    "print(testing_images.shape)\n",
    "print(testing_labels.shape)"
   ]
  },
  {
   "cell_type": "code",
   "execution_count": 4,
   "metadata": {},
   "outputs": [
    {
     "name": "stdout",
     "output_type": "stream",
     "text": [
      "(27455, 28, 28, 1)\n",
      "(7172, 28, 28, 1)\n"
     ]
    }
   ],
   "source": [
    "training_images = np.expand_dims(training_images , axis =3 )\n",
    "testing_images = np.expand_dims(testing_images , axis =3 )\n",
    "train_datagen = ImageDataGenerator(\n",
    "    rescale=1. / 255,\n",
    "    rotation_range=40,\n",
    "    width_shift_range=0.2,\n",
    "    height_shift_range=0.2,\n",
    "    shear_range=0.2,\n",
    "    zoom_range=0.2,\n",
    "    horizontal_flip=True,\n",
    "    fill_mode='nearest'\n",
    "    )\n",
    "validation_datagen = ImageDataGenerator(\n",
    "    rescale = 1/255)\n",
    "print(training_images.shape)\n",
    "print(testing_images.shape)"
   ]
  },
  {
   "cell_type": "code",
   "execution_count": 5,
   "metadata": {},
   "outputs": [],
   "source": [
    "class myCallback(tf.keras.callbacks.Callback):\n",
    "    def on_epoch_end(self, epoch, logs={}):\n",
    "        if(logs.get('accuracy')>0.97):\n",
    "            print(\"\\nReached 97.0% accuracy so cancelling training!\")\n",
    "            self.model.stop_training = True"
   ]
  },
  {
   "cell_type": "code",
   "execution_count": 6,
   "metadata": {},
   "outputs": [],
   "source": [
    "callbacks = myCallback()"
   ]
  },
  {
   "cell_type": "code",
   "execution_count": 7,
   "metadata": {},
   "outputs": [
    {
     "name": "stdout",
     "output_type": "stream",
     "text": [
      "Epoch 1/15\n",
      "858/857 [==============================] - 72s 84ms/step - loss: 2.6098 - accuracy: 0.2020 - val_loss: 1.9048 - val_accuracy: 0.3625\n",
      "Epoch 2/15\n",
      "858/857 [==============================] - 66s 76ms/step - loss: 1.8206 - accuracy: 0.4185 - val_loss: 1.0331 - val_accuracy: 0.6576\n",
      "Epoch 3/15\n",
      "858/857 [==============================] - 65s 76ms/step - loss: 1.3946 - accuracy: 0.5464 - val_loss: 0.8822 - val_accuracy: 0.6824\n",
      "Epoch 4/15\n",
      "858/857 [==============================] - 64s 75ms/step - loss: 1.1410 - accuracy: 0.6251 - val_loss: 0.6364 - val_accuracy: 0.7928\n",
      "Epoch 5/15\n",
      "858/857 [==============================] - 62s 72ms/step - loss: 0.9749 - accuracy: 0.6775 - val_loss: 0.6099 - val_accuracy: 0.7815\n",
      "Epoch 6/15\n",
      "858/857 [==============================] - 63s 74ms/step - loss: 0.8493 - accuracy: 0.7186 - val_loss: 0.4644 - val_accuracy: 0.8395\n",
      "Epoch 7/15\n",
      "858/857 [==============================] - 65s 75ms/step - loss: 0.7485 - accuracy: 0.7513 - val_loss: 0.4109 - val_accuracy: 0.8614\n",
      "Epoch 8/15\n",
      "858/857 [==============================] - 63s 74ms/step - loss: 0.6775 - accuracy: 0.7742 - val_loss: 0.4024 - val_accuracy: 0.8688\n",
      "Epoch 9/15\n",
      "858/857 [==============================] - 64s 75ms/step - loss: 0.6115 - accuracy: 0.7944 - val_loss: 0.3050 - val_accuracy: 0.8922\n",
      "Epoch 10/15\n",
      "858/857 [==============================] - 63s 73ms/step - loss: 0.5680 - accuracy: 0.8114 - val_loss: 0.3025 - val_accuracy: 0.8958\n",
      "Epoch 11/15\n",
      "858/857 [==============================] - 62s 72ms/step - loss: 0.5244 - accuracy: 0.8238 - val_loss: 0.2053 - val_accuracy: 0.9285\n",
      "Epoch 12/15\n",
      "858/857 [==============================] - 65s 76ms/step - loss: 0.4912 - accuracy: 0.8369 - val_loss: 0.2190 - val_accuracy: 0.9237\n",
      "Epoch 13/15\n",
      "858/857 [==============================] - 66s 77ms/step - loss: 0.4616 - accuracy: 0.8458 - val_loss: 0.2008 - val_accuracy: 0.9293\n",
      "Epoch 14/15\n",
      "858/857 [==============================] - 66s 77ms/step - loss: 0.4281 - accuracy: 0.8523 - val_loss: 0.2914 - val_accuracy: 0.8880\n",
      "Epoch 15/15\n",
      "858/857 [==============================] - 63s 74ms/step - loss: 0.4165 - accuracy: 0.8625 - val_loss: 0.2096 - val_accuracy: 0.9246\n"
     ]
    },
    {
     "data": {
      "text/plain": [
       "[191.32415177472396, 0.625488]"
      ]
     },
     "execution_count": 7,
     "metadata": {},
     "output_type": "execute_result"
    }
   ],
   "source": [
    "model = tf.keras.models.Sequential([\n",
    "    tf.keras.layers.Conv2D(32 , (3,3) ,activation = 'relu' , input_shape = (28 , 28 ,1)),\n",
    "    tf.keras.layers.MaxPooling2D(2,2), \n",
    "    tf.keras.layers.Conv2D(32, (3,3) ,activation = 'relu' ),\n",
    "    tf.keras.layers.MaxPooling2D(2,2),\n",
    "    tf.keras.layers.Flatten(),\n",
    "    tf.keras.layers.Dense( 512 , activation = 'relu'),\n",
    "    tf.keras.layers.Dense(26 ,activation = 'softmax')\n",
    "]) \n",
    "model.compile(loss ='sparse_categorical_crossentropy' , optimizer = 'Adam' , metrics = ['accuracy'])\n",
    "history = model.fit_generator(train_datagen.flow(training_images, training_labels, batch_size=32),\n",
    "                              steps_per_epoch=len(training_images) / 32,\n",
    "                              epochs=15,\n",
    "                              validation_data=validation_datagen.flow(testing_images, testing_labels, batch_size=32),\n",
    "                              validation_steps=len(testing_images) / 32)\n",
    "\n",
    "model.evaluate(testing_images, testing_labels, verbose=0,callbacks = [callbacks])"
   ]
  },
  {
   "cell_type": "code",
   "execution_count": 8,
   "metadata": {},
   "outputs": [
    {
     "data": {
      "image/png": "[encoded data removed]",
      "text/plain": [
       "<Figure size 432x288 with 1 Axes>"
      ]
     },
     "metadata": {
      "needs_background": "light"
     },
     "output_type": "display_data"
    },
    {
     "data": {
      "image/png": "[encoded data removed]",
      "text/plain": [
       "<Figure size 432x288 with 1 Axes>"
      ]
     },
     "metadata": {
      "needs_background": "light"
     },
     "output_type": "display_data"
    }
   ],
   "source": [
    "%matplotlib inline\n",
    "import matplotlib.pyplot as plt\n",
    "acc = history.history['accuracy']\n",
    "val_acc = history.history['val_accuracy']\n",
    "loss = history.history['loss']\n",
    "val_loss = history.history['val_accuracy']\n",
    "\n",
    "epochs = range(len(acc))\n",
    "\n",
    "plt.plot(epochs, acc, 'r', label='Training accuracy')\n",
    "plt.plot(epochs, val_acc, 'b', label='Validation accuracy')\n",
    "plt.title('Training and validation accuracy')\n",
    "plt.legend()\n",
    "plt.figure()\n",
    "\n",
    "plt.plot(epochs, loss, 'r', label='Training Loss')\n",
    "plt.plot(epochs, val_loss, 'b', label='Validation Loss')\n",
    "plt.title('Training and validation loss')\n",
    "plt.legend()\n",
    "\n",
    "plt.show()\n"
   ]
  },
  {
   "cell_type": "code",
   "execution_count": 9,
   "metadata": {},
   "outputs": [
    {
     "name": "stdout",
     "output_type": "stream",
     "text": [
      "WARNING:tensorflow:From /usr/local/lib/python3.6/dist-packages/tensorflow_core/python/ops/resource_variable_ops.py:1781: calling BaseResourceVariable.__init__ (from tensorflow.python.ops.resource_variable_ops) with constraint is deprecated and will be removed in a future version.\n",
      "Instructions for updating:\n",
      "If using Keras pass *_constraint arguments to layers.\n",
      "INFO:tensorflow:Assets written to: model.h/assets\n"
     ]
    }
   ],
   "source": [
    "model.save(\"model.h\")"
   ]
  },
  {
   "cell_type": "code",
   "execution_count": null,
   "metadata": {},
   "outputs": [],
   "source": []
  }
 ],
 "metadata": {
  "kernelspec": {
   "display_name": "Python 3",
   "language": "python",
   "name": "python3"
  },
  "language_info": {
   "codemirror_mode": {
    "name": "ipython",
    "version": 3
   },
   "file_extension": ".py",
   "mimetype": "text/x-python",
   "name": "python",
   "nbconvert_exporter": "python",
   "pygments_lexer": "ipython3",
   "version": "3.7.4"
  }
 },
 "nbformat": 4,
 "nbformat_minor": 2
}
